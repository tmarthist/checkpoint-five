{
    "metadata": {
        "kernelspec": {
            "name": "python3",
            "display_name": "Python 3",
            "language": "python"
        },
        "language_info": {
            "name": "python",
            "version": "3.8.8",
            "mimetype": "text/x-python",
            "codemirror_mode": {
                "name": "ipython",
                "version": 3
            },
            "pygments_lexer": "ipython3",
            "nbconvert_exporter": "python",
            "file_extension": ".py"
        }
    },
    "nbformat_minor": 2,
    "nbformat": 4,
    "cells": [
        {
            "cell_type": "markdown",
            "source": [
                "# Checkpoint Five: Modeling Data\n",
                "\n",
                "With your visualizations ready to go, the final step in your project is to do some predictive analysis on your dataset. You will be using linear regression for your model. You will not be penalized if your linear regression model does not work out. You just need to build the model and make notes as to the results.\n",
                "\n",
                "Link to my dataset:\n",
                "\n",
                "## Prepare Your Dataframe\n",
                "\n",
                "Import any libraries you need and create a dataframe."
            ],
            "metadata": {
                "azdata_cell_guid": "c9a57f69-e372-43d2-94fc-ab1a9097069f"
            },
            "attachments": {}
        },
        {
            "cell_type": "code",
            "source": [
                ""
            ],
            "metadata": {
                "azdata_cell_guid": "f9287db4-8af9-4bce-9a54-ffeeee0e045f"
            },
            "outputs": [],
            "execution_count": 1
        },
        {
            "cell_type": "markdown",
            "source": [
                "## Find Correlations\n",
                "\n",
                "Use either pairplot or a heatmap or both to find the two variables with the strongest correlation in your dataset."
            ],
            "metadata": {
                "azdata_cell_guid": "d794ffe0-9cd3-4812-bc7d-f75460cf611c"
            }
        },
        {
            "cell_type": "code",
            "source": [
                ""
            ],
            "metadata": {
                "azdata_cell_guid": "b009376d-9eb1-4cf0-9487-f0ddc3dbc1cd"
            },
            "outputs": [],
            "execution_count": 1
        },
        {
            "cell_type": "markdown",
            "source": [
                "## Create Your Model\n",
                "\n",
                "Use the two columns with the strongest correlation to create and train your model. Make sure to print out the summary and plot the column values and the line produced by the model."
            ],
            "metadata": {
                "azdata_cell_guid": "b75b6098-4152-4701-9136-a8f774c8583e"
            },
            "attachments": {}
        },
        {
            "cell_type": "code",
            "source": [
                ""
            ],
            "metadata": {
                "azdata_cell_guid": "05ecd9c7-e4a4-4d5c-b092-3dff597e96a3"
            },
            "outputs": [],
            "execution_count": 1
        },
        {
            "cell_type": "code",
            "source": [
                ""
            ],
            "metadata": {
                "azdata_cell_guid": "f55fbe86-74b8-44f7-af96-7448e58983d7",
                "tags": []
            },
            "outputs": [],
            "execution_count": 1
        },
        {
            "cell_type": "markdown",
            "source": [
                "## Error Terms\n",
                "\n",
                "Finally, plot your error terms!"
            ],
            "metadata": {
                "azdata_cell_guid": "c021f50d-92b2-4359-b3a9-c47f62f0a94f"
            }
        },
        {
            "cell_type": "code",
            "source": [
                ""
            ],
            "metadata": {
                "azdata_cell_guid": "87480c6c-1bb6-4135-953a-c74ba3da518d"
            },
            "outputs": [],
            "execution_count": 1
        },
        {
            "cell_type": "markdown",
            "source": [
                "## Summarize Your Work\n",
                "\n",
                "Make notes of your answers to the questions below.\n",
                "\n",
                "1. What was your R-squared value? 0.638\n",
                "2. Based on your results, do you think a linear regression model was the best type of predictive analysis for your dataset? It was not particularly effective in this case.\n",
                "3. Was your plot of the error terms a bell curve? Not really"
            ],
            "metadata": {
                "azdata_cell_guid": "5fc50d24-c873-4801-87f2-a1e518caf424"
            }
        }
    ]
}